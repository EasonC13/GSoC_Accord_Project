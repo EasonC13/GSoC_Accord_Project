{
 "cells": [
  {
   "cell_type": "code",
   "execution_count": 2,
   "metadata": {},
   "outputs": [],
   "source": [
    "import torch\n",
    "from torch import nn\n",
    "from torch.utils.data import DataLoader\n",
    "from torchvision import datasets\n",
    "from torchvision.transforms import ToTensor, Lambda, Compose\n",
    "import matplotlib.pyplot as plt"
   ]
  },
  {
   "cell_type": "code",
   "execution_count": 4,
   "metadata": {},
   "outputs": [
    {
     "name": "stdout",
     "output_type": "stream",
     "text": [
      "Downloading http://fashion-mnist.s3-website.eu-central-1.amazonaws.com/train-images-idx3-ubyte.gz\n",
      "Downloading http://fashion-mnist.s3-website.eu-central-1.amazonaws.com/train-images-idx3-ubyte.gz to test_data/FashionMNIST/raw/train-images-idx3-ubyte.gz\n"
     ]
    },
    {
     "data": {
      "application/vnd.jupyter.widget-view+json": {
       "model_id": "2d281bb76bd14368a688844d1cf2ed7b",
       "version_major": 2,
       "version_minor": 0
      },
      "text/plain": [
       "HBox(children=(FloatProgress(value=0.0, max=26421880.0), HTML(value='')))"
      ]
     },
     "metadata": {},
     "output_type": "display_data"
    },
    {
     "name": "stdout",
     "output_type": "stream",
     "text": [
      "\n",
      "Extracting test_data/FashionMNIST/raw/train-images-idx3-ubyte.gz to test_data/FashionMNIST/raw\n",
      "\n",
      "Downloading http://fashion-mnist.s3-website.eu-central-1.amazonaws.com/train-labels-idx1-ubyte.gz\n",
      "Downloading http://fashion-mnist.s3-website.eu-central-1.amazonaws.com/train-labels-idx1-ubyte.gz to test_data/FashionMNIST/raw/train-labels-idx1-ubyte.gz\n"
     ]
    },
    {
     "data": {
      "application/vnd.jupyter.widget-view+json": {
       "model_id": "c5f0f2d7c4b04f1983234a9e6997cc79",
       "version_major": 2,
       "version_minor": 0
      },
      "text/plain": [
       "HBox(children=(FloatProgress(value=0.0, max=29515.0), HTML(value='')))"
      ]
     },
     "metadata": {},
     "output_type": "display_data"
    },
    {
     "name": "stdout",
     "output_type": "stream",
     "text": [
      "\n",
      "Extracting test_data/FashionMNIST/raw/train-labels-idx1-ubyte.gz to test_data/FashionMNIST/raw\n",
      "\n",
      "Downloading http://fashion-mnist.s3-website.eu-central-1.amazonaws.com/t10k-images-idx3-ubyte.gz\n",
      "Downloading http://fashion-mnist.s3-website.eu-central-1.amazonaws.com/t10k-images-idx3-ubyte.gz to test_data/FashionMNIST/raw/t10k-images-idx3-ubyte.gz\n"
     ]
    },
    {
     "data": {
      "application/vnd.jupyter.widget-view+json": {
       "model_id": "2598592b86794fe4b51d6774f5b142fc",
       "version_major": 2,
       "version_minor": 0
      },
      "text/plain": [
       "HBox(children=(FloatProgress(value=0.0, max=4422102.0), HTML(value='')))"
      ]
     },
     "metadata": {},
     "output_type": "display_data"
    },
    {
     "name": "stdout",
     "output_type": "stream",
     "text": [
      "\n",
      "Extracting test_data/FashionMNIST/raw/t10k-images-idx3-ubyte.gz to test_data/FashionMNIST/raw\n",
      "\n",
      "Downloading http://fashion-mnist.s3-website.eu-central-1.amazonaws.com/t10k-labels-idx1-ubyte.gz\n",
      "Downloading http://fashion-mnist.s3-website.eu-central-1.amazonaws.com/t10k-labels-idx1-ubyte.gz to test_data/FashionMNIST/raw/t10k-labels-idx1-ubyte.gz\n"
     ]
    },
    {
     "data": {
      "application/vnd.jupyter.widget-view+json": {
       "model_id": "40730db11f224d0881dcf3b290d161e4",
       "version_major": 2,
       "version_minor": 0
      },
      "text/plain": [
       "HBox(children=(FloatProgress(value=0.0, max=5148.0), HTML(value='')))"
      ]
     },
     "metadata": {},
     "output_type": "display_data"
    },
    {
     "name": "stdout",
     "output_type": "stream",
     "text": [
      "\n",
      "Extracting test_data/FashionMNIST/raw/t10k-labels-idx1-ubyte.gz to test_data/FashionMNIST/raw\n",
      "\n"
     ]
    },
    {
     "name": "stderr",
     "output_type": "stream",
     "text": [
      "/home/eason/anaconda3/envs/simple/lib/python3.7/site-packages/torchvision/datasets/mnist.py:498: UserWarning: The given NumPy array is not writeable, and PyTorch does not support non-writeable tensors. This means you can write to the underlying (supposedly non-writeable) NumPy array using the tensor. You may want to copy the array to protect its data or make it writeable before converting it to a tensor. This type of warning will be suppressed for the rest of this program. (Triggered internally at  /pytorch/torch/csrc/utils/tensor_numpy.cpp:180.)\n",
      "  return torch.from_numpy(parsed.astype(m[2], copy=False)).view(*s)\n"
     ]
    }
   ],
   "source": [
    "# Download training data from open datasets.\n",
    "training_data = datasets.FashionMNIST(\n",
    "    root=\"test_data\",\n",
    "    train=True,\n",
    "    download=True,\n",
    "    transform=ToTensor(),\n",
    ")\n",
    "\n",
    "# Download test data from open datasets.\n",
    "test_data = datasets.FashionMNIST(\n",
    "    root=\"test_data\",\n",
    "    train=False,\n",
    "    download=True,\n",
    "    transform=ToTensor(),\n",
    ")"
   ]
  },
  {
   "cell_type": "code",
   "execution_count": 20,
   "metadata": {},
   "outputs": [
    {
     "name": "stdout",
     "output_type": "stream",
     "text": [
      "Shape of X [N, C, H, W]:  torch.Size([964, 1, 28, 28])\n",
      "Shape of y:  torch.Size([964]) torch.int64\n"
     ]
    }
   ],
   "source": [
    "batch_size = 964\n",
    "\n",
    "# Create data loaders.\n",
    "train_dataloader = DataLoader(training_data, batch_size=batch_size)\n",
    "test_dataloader = DataLoader(test_data, batch_size=batch_size)\n",
    "\n",
    "for X, y in test_dataloader:\n",
    "    print(\"Shape of X [N, C, H, W]: \", X.shape)\n",
    "    print(\"Shape of y: \", y.shape, y.dtype)\n",
    "    break"
   ]
  },
  {
   "cell_type": "code",
   "execution_count": 23,
   "metadata": {},
   "outputs": [
    {
     "name": "stdout",
     "output_type": "stream",
     "text": [
      "Using cuda device\n"
     ]
    }
   ],
   "source": [
    "# Get cpu or gpu device for training.\n",
    "device = \"cuda\" if torch.cuda.is_available() else \"cpu\"\n",
    "print(\"Using {} device\".format(device))"
   ]
  },
  {
   "cell_type": "code",
   "execution_count": 24,
   "metadata": {},
   "outputs": [
    {
     "name": "stdout",
     "output_type": "stream",
     "text": [
      "NeuralNetwork(\n",
      "  (flatten): Flatten(start_dim=1, end_dim=-1)\n",
      "  (linear_relu_stack): Sequential(\n",
      "    (0): Linear(in_features=784, out_features=512, bias=True)\n",
      "    (1): ReLU()\n",
      "    (2): Linear(in_features=512, out_features=512, bias=True)\n",
      "    (3): ReLU()\n",
      "    (4): Linear(in_features=512, out_features=10, bias=True)\n",
      "    (5): ReLU()\n",
      "  )\n",
      ")\n"
     ]
    }
   ],
   "source": [
    "class NeuralNetwork(nn.Module):\n",
    "    def __init__(self):\n",
    "        super(NeuralNetwork, self).__init__()\n",
    "        self.flatten = nn.Flatten()\n",
    "        self.linear_relu_stack = nn.Sequential(\n",
    "            nn.Linear(28*28, 512),\n",
    "            nn.ReLU(),\n",
    "            nn.Linear(512, 512),\n",
    "            nn.ReLU(),\n",
    "            nn.Linear(512, 10),\n",
    "            nn.ReLU()\n",
    "        )\n",
    "\n",
    "    def forward(self, x):\n",
    "        x = self.flatten(x)\n",
    "        logits = self.linear_relu_stack(x)\n",
    "        return logits\n",
    "\n",
    "model = NeuralNetwork().to(device)\n",
    "print(model)"
   ]
  },
  {
   "cell_type": "code",
   "execution_count": 25,
   "metadata": {},
   "outputs": [],
   "source": [
    "loss_fn = nn.CrossEntropyLoss()\n",
    "optimizer = torch.optim.SGD(model.parameters(), lr=1e-3)\n"
   ]
  },
  {
   "cell_type": "code",
   "execution_count": 26,
   "metadata": {},
   "outputs": [],
   "source": [
    "def train(dataloader, model, loss_fn, optimizer):\n",
    "    size = len(dataloader.dataset)\n",
    "    for batch, (X, y) in enumerate(dataloader):\n",
    "        X, y = X.to(device), y.to(device)\n",
    "\n",
    "        # Compute prediction error\n",
    "        pred = model(X)\n",
    "        loss = loss_fn(pred, y)\n",
    "\n",
    "        # Backpropagation\n",
    "        optimizer.zero_grad()\n",
    "        loss.backward()\n",
    "        optimizer.step()\n",
    "\n",
    "        if batch % 100 == 0:\n",
    "            loss, current = loss.item(), batch * len(X)\n",
    "            print(f\"loss: {loss:>7f}  [{current:>5d}/{size:>5d}]\")\n"
   ]
  },
  {
   "cell_type": "code",
   "execution_count": 27,
   "metadata": {},
   "outputs": [],
   "source": [
    "def test(dataloader, model):\n",
    "    size = len(dataloader.dataset)\n",
    "    model.eval()\n",
    "    test_loss, correct = 0, 0\n",
    "    with torch.no_grad():\n",
    "        for X, y in dataloader:\n",
    "            X, y = X.to(device), y.to(device)\n",
    "            pred = model(X)\n",
    "            test_loss += loss_fn(pred, y).item()\n",
    "            correct += (pred.argmax(1) == y).type(torch.float).sum().item()\n",
    "    test_loss /= size\n",
    "    correct /= size\n",
    "    print(f\"Test Error: \\n Accuracy: {(100*correct):>0.1f}%, Avg loss: {test_loss:>8f} \\n\")"
   ]
  },
  {
   "cell_type": "code",
   "execution_count": 29,
   "metadata": {},
   "outputs": [
    {
     "name": "stdout",
     "output_type": "stream",
     "text": [
      "Epoch 1\n",
      "-------------------------------\n",
      "loss: 2.269314  [    0/60000]\n",
      "Test Error: \n",
      " Accuracy: 41.1%, Avg loss: 0.002490 \n",
      "\n",
      "Epoch 2\n",
      "-------------------------------\n",
      "loss: 2.262210  [    0/60000]\n",
      "Test Error: \n",
      " Accuracy: 43.8%, Avg loss: 0.002482 \n",
      "\n",
      "Epoch 3\n",
      "-------------------------------\n",
      "loss: 2.254991  [    0/60000]\n",
      "Test Error: \n",
      " Accuracy: 46.1%, Avg loss: 0.002474 \n",
      "\n",
      "Epoch 4\n",
      "-------------------------------\n",
      "loss: 2.247547  [    0/60000]\n",
      "Test Error: \n",
      " Accuracy: 48.2%, Avg loss: 0.002466 \n",
      "\n",
      "Epoch 5\n",
      "-------------------------------\n",
      "loss: 2.239772  [    0/60000]\n",
      "Test Error: \n",
      " Accuracy: 50.0%, Avg loss: 0.002457 \n",
      "\n",
      "Epoch 6\n",
      "-------------------------------\n",
      "loss: 2.231761  [    0/60000]\n",
      "Test Error: \n",
      " Accuracy: 51.4%, Avg loss: 0.002448 \n",
      "\n",
      "Epoch 7\n",
      "-------------------------------\n",
      "loss: 2.223588  [    0/60000]\n",
      "Test Error: \n",
      " Accuracy: 52.6%, Avg loss: 0.002439 \n",
      "\n",
      "Epoch 8\n",
      "-------------------------------\n",
      "loss: 2.215189  [    0/60000]\n",
      "Test Error: \n",
      " Accuracy: 53.5%, Avg loss: 0.002430 \n",
      "\n",
      "Epoch 9\n",
      "-------------------------------\n",
      "loss: 2.206504  [    0/60000]\n",
      "Test Error: \n",
      " Accuracy: 54.3%, Avg loss: 0.002420 \n",
      "\n",
      "Epoch 10\n",
      "-------------------------------\n",
      "loss: 2.197492  [    0/60000]\n",
      "Test Error: \n",
      " Accuracy: 54.9%, Avg loss: 0.002410 \n",
      "\n",
      "Epoch 11\n",
      "-------------------------------\n",
      "loss: 2.188135  [    0/60000]\n",
      "Test Error: \n",
      " Accuracy: 55.5%, Avg loss: 0.002399 \n",
      "\n",
      "Epoch 12\n",
      "-------------------------------\n",
      "loss: 2.178403  [    0/60000]\n",
      "Test Error: \n",
      " Accuracy: 55.9%, Avg loss: 0.002389 \n",
      "\n",
      "Epoch 13\n",
      "-------------------------------\n",
      "loss: 2.168302  [    0/60000]\n",
      "Test Error: \n",
      " Accuracy: 56.4%, Avg loss: 0.002377 \n",
      "\n",
      "Epoch 14\n",
      "-------------------------------\n",
      "loss: 2.157801  [    0/60000]\n",
      "Test Error: \n",
      " Accuracy: 56.7%, Avg loss: 0.002366 \n",
      "\n",
      "Epoch 15\n",
      "-------------------------------\n",
      "loss: 2.146885  [    0/60000]\n",
      "Test Error: \n",
      " Accuracy: 57.0%, Avg loss: 0.002353 \n",
      "\n",
      "Epoch 16\n",
      "-------------------------------\n",
      "loss: 2.135514  [    0/60000]\n",
      "Test Error: \n",
      " Accuracy: 57.1%, Avg loss: 0.002341 \n",
      "\n",
      "Epoch 17\n",
      "-------------------------------\n",
      "loss: 2.123669  [    0/60000]\n",
      "Test Error: \n",
      " Accuracy: 57.4%, Avg loss: 0.002327 \n",
      "\n",
      "Epoch 18\n",
      "-------------------------------\n",
      "loss: 2.111328  [    0/60000]\n",
      "Test Error: \n",
      " Accuracy: 57.5%, Avg loss: 0.002313 \n",
      "\n",
      "Epoch 19\n",
      "-------------------------------\n",
      "loss: 2.098470  [    0/60000]\n",
      "Test Error: \n",
      " Accuracy: 57.5%, Avg loss: 0.002299 \n",
      "\n",
      "Epoch 20\n",
      "-------------------------------\n",
      "loss: 2.085082  [    0/60000]\n",
      "Test Error: \n",
      " Accuracy: 57.5%, Avg loss: 0.002284 \n",
      "\n",
      "Epoch 21\n",
      "-------------------------------\n",
      "loss: 2.071152  [    0/60000]\n",
      "Test Error: \n",
      " Accuracy: 57.5%, Avg loss: 0.002268 \n",
      "\n",
      "Epoch 22\n",
      "-------------------------------\n",
      "loss: 2.056681  [    0/60000]\n",
      "Test Error: \n",
      " Accuracy: 57.5%, Avg loss: 0.002252 \n",
      "\n",
      "Epoch 23\n",
      "-------------------------------\n",
      "loss: 2.041658  [    0/60000]\n",
      "Test Error: \n",
      " Accuracy: 57.5%, Avg loss: 0.002235 \n",
      "\n",
      "Epoch 24\n",
      "-------------------------------\n",
      "loss: 2.026098  [    0/60000]\n",
      "Test Error: \n",
      " Accuracy: 57.5%, Avg loss: 0.002218 \n",
      "\n",
      "Epoch 25\n",
      "-------------------------------\n",
      "loss: 2.010002  [    0/60000]\n",
      "Test Error: \n",
      " Accuracy: 57.4%, Avg loss: 0.002200 \n",
      "\n",
      "Epoch 26\n",
      "-------------------------------\n",
      "loss: 1.993394  [    0/60000]\n",
      "Test Error: \n",
      " Accuracy: 57.4%, Avg loss: 0.002182 \n",
      "\n",
      "Epoch 27\n",
      "-------------------------------\n",
      "loss: 1.976284  [    0/60000]\n",
      "Test Error: \n",
      " Accuracy: 57.4%, Avg loss: 0.002163 \n",
      "\n",
      "Epoch 28\n",
      "-------------------------------\n",
      "loss: 1.958689  [    0/60000]\n",
      "Test Error: \n",
      " Accuracy: 57.3%, Avg loss: 0.002143 \n",
      "\n",
      "Epoch 29\n",
      "-------------------------------\n",
      "loss: 1.940638  [    0/60000]\n",
      "Test Error: \n",
      " Accuracy: 57.3%, Avg loss: 0.002124 \n",
      "\n",
      "Epoch 30\n",
      "-------------------------------\n",
      "loss: 1.922166  [    0/60000]\n",
      "Test Error: \n",
      " Accuracy: 57.4%, Avg loss: 0.002103 \n",
      "\n",
      "Epoch 31\n",
      "-------------------------------\n",
      "loss: 1.903314  [    0/60000]\n",
      "Test Error: \n",
      " Accuracy: 57.4%, Avg loss: 0.002083 \n",
      "\n",
      "Epoch 32\n",
      "-------------------------------\n",
      "loss: 1.884120  [    0/60000]\n",
      "Test Error: \n",
      " Accuracy: 57.4%, Avg loss: 0.002062 \n",
      "\n",
      "Epoch 33\n",
      "-------------------------------\n",
      "loss: 1.864637  [    0/60000]\n",
      "Test Error: \n",
      " Accuracy: 57.4%, Avg loss: 0.002041 \n",
      "\n",
      "Epoch 34\n",
      "-------------------------------\n",
      "loss: 1.844906  [    0/60000]\n",
      "Test Error: \n",
      " Accuracy: 57.4%, Avg loss: 0.002019 \n",
      "\n",
      "Epoch 35\n",
      "-------------------------------\n",
      "loss: 1.824985  [    0/60000]\n",
      "Test Error: \n",
      " Accuracy: 57.5%, Avg loss: 0.001998 \n",
      "\n",
      "Epoch 36\n",
      "-------------------------------\n",
      "loss: 1.804940  [    0/60000]\n",
      "Test Error: \n",
      " Accuracy: 57.5%, Avg loss: 0.001977 \n",
      "\n",
      "Epoch 37\n",
      "-------------------------------\n",
      "loss: 1.784821  [    0/60000]\n",
      "Test Error: \n",
      " Accuracy: 57.5%, Avg loss: 0.001955 \n",
      "\n",
      "Epoch 38\n",
      "-------------------------------\n",
      "loss: 1.764691  [    0/60000]\n",
      "Test Error: \n",
      " Accuracy: 57.4%, Avg loss: 0.001934 \n",
      "\n",
      "Epoch 39\n",
      "-------------------------------\n",
      "loss: 1.744607  [    0/60000]\n",
      "Test Error: \n",
      " Accuracy: 57.5%, Avg loss: 0.001912 \n",
      "\n",
      "Epoch 40\n",
      "-------------------------------\n",
      "loss: 1.724618  [    0/60000]\n",
      "Test Error: \n",
      " Accuracy: 57.6%, Avg loss: 0.001891 \n",
      "\n",
      "Epoch 41\n",
      "-------------------------------\n",
      "loss: 1.704777  [    0/60000]\n",
      "Test Error: \n",
      " Accuracy: 57.6%, Avg loss: 0.001870 \n",
      "\n",
      "Epoch 42\n",
      "-------------------------------\n",
      "loss: 1.685138  [    0/60000]\n",
      "Test Error: \n",
      " Accuracy: 57.7%, Avg loss: 0.001850 \n",
      "\n",
      "Epoch 43\n",
      "-------------------------------\n",
      "loss: 1.665738  [    0/60000]\n",
      "Test Error: \n",
      " Accuracy: 57.6%, Avg loss: 0.001830 \n",
      "\n",
      "Epoch 44\n",
      "-------------------------------\n",
      "loss: 1.646611  [    0/60000]\n",
      "Test Error: \n",
      " Accuracy: 57.7%, Avg loss: 0.001810 \n",
      "\n",
      "Epoch 45\n",
      "-------------------------------\n",
      "loss: 1.627797  [    0/60000]\n",
      "Test Error: \n",
      " Accuracy: 57.7%, Avg loss: 0.001790 \n",
      "\n",
      "Epoch 46\n",
      "-------------------------------\n",
      "loss: 1.609321  [    0/60000]\n",
      "Test Error: \n",
      " Accuracy: 57.7%, Avg loss: 0.001771 \n",
      "\n",
      "Epoch 47\n",
      "-------------------------------\n",
      "loss: 1.591203  [    0/60000]\n",
      "Test Error: \n",
      " Accuracy: 57.8%, Avg loss: 0.001752 \n",
      "\n",
      "Epoch 48\n",
      "-------------------------------\n",
      "loss: 1.573464  [    0/60000]\n",
      "Test Error: \n",
      " Accuracy: 57.9%, Avg loss: 0.001733 \n",
      "\n",
      "Epoch 49\n",
      "-------------------------------\n",
      "loss: 1.556117  [    0/60000]\n",
      "Test Error: \n",
      " Accuracy: 57.9%, Avg loss: 0.001715 \n",
      "\n",
      "Epoch 50\n",
      "-------------------------------\n",
      "loss: 1.539179  [    0/60000]\n",
      "Test Error: \n",
      " Accuracy: 58.0%, Avg loss: 0.001698 \n",
      "\n",
      "Done!\n"
     ]
    }
   ],
   "source": [
    "epochs = 50\n",
    "for t in range(epochs):\n",
    "    print(f\"Epoch {t+1}\\n-------------------------------\")\n",
    "    train(train_dataloader, model, loss_fn, optimizer)\n",
    "    test(test_dataloader, model)\n",
    "print(\"Done!\")"
   ]
  },
  {
   "cell_type": "code",
   "execution_count": 12,
   "metadata": {},
   "outputs": [
    {
     "name": "stdout",
     "output_type": "stream",
     "text": [
      "Saved PyTorch Model State to model.pth\n"
     ]
    }
   ],
   "source": [
    "torch.save(model.state_dict(), \"model.pth\")\n",
    "print(\"Saved PyTorch Model State to model.pth\")"
   ]
  },
  {
   "cell_type": "code",
   "execution_count": 13,
   "metadata": {},
   "outputs": [
    {
     "data": {
      "text/plain": [
       "<All keys matched successfully>"
      ]
     },
     "execution_count": 13,
     "metadata": {},
     "output_type": "execute_result"
    }
   ],
   "source": [
    "model = NeuralNetwork()\n",
    "model.load_state_dict(torch.load(\"model.pth\"))"
   ]
  },
  {
   "cell_type": "code",
   "execution_count": 17,
   "metadata": {},
   "outputs": [
    {
     "name": "stdout",
     "output_type": "stream",
     "text": [
      "Predicted: \"Sneaker\", Actual: \"Ankle boot\"\n"
     ]
    }
   ],
   "source": [
    "classes = [\n",
    "    \"T-shirt/top\",\n",
    "    \"Trouser\",\n",
    "    \"Pullover\",\n",
    "    \"Dress\",\n",
    "    \"Coat\",\n",
    "    \"Sandal\",\n",
    "    \"Shirt\",\n",
    "    \"Sneaker\",\n",
    "    \"Bag\",\n",
    "    \"Ankle boot\",\n",
    "]\n",
    "\n",
    "model.eval()\n",
    "x, y = test_data[0][0], test_data[0][1]\n",
    "with torch.no_grad():\n",
    "    pred = model(x)\n",
    "    predicted, actual = classes[pred[0].argmax(0)], classes[y]\n",
    "    print(f'Predicted: \"{predicted}\", Actual: \"{actual}\"')"
   ]
  },
  {
   "cell_type": "code",
   "execution_count": 19,
   "metadata": {},
   "outputs": [
    {
     "data": {
      "text/plain": [
       "tensor([[0.0000, 0.0000, 0.0000, 0.0000, 0.0000, 0.0000, 0.0000, 0.9488, 0.0000,\n",
       "         0.0000]])"
      ]
     },
     "execution_count": 19,
     "metadata": {},
     "output_type": "execute_result"
    }
   ],
   "source": [
    "pred"
   ]
  },
  {
   "cell_type": "code",
   "execution_count": null,
   "metadata": {},
   "outputs": [],
   "source": []
  }
 ],
 "metadata": {
  "kernelspec": {
   "display_name": "simple",
   "language": "python",
   "name": "simple"
  },
  "language_info": {
   "codemirror_mode": {
    "name": "ipython",
    "version": 3
   },
   "file_extension": ".py",
   "mimetype": "text/x-python",
   "name": "python",
   "nbconvert_exporter": "python",
   "pygments_lexer": "ipython3",
   "version": "3.7.10"
  }
 },
 "nbformat": 4,
 "nbformat_minor": 2
}
