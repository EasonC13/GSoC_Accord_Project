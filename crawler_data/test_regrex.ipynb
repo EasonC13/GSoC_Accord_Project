{
 "cells": [
  {
   "cell_type": "code",
   "execution_count": 12,
   "metadata": {
    "ExecuteTime": {
     "end_time": "2021-06-12T02:05:05.280776Z",
     "start_time": "2021-06-12T02:05:05.278368Z"
    }
   },
   "outputs": [],
   "source": [
    "text = \"Upon the signing of this Agreement, {buyer} shall pay {{amount}} to {{seller}}.\""
   ]
  },
  {
   "cell_type": "code",
   "execution_count": 48,
   "metadata": {
    "ExecuteTime": {
     "end_time": "2021-06-12T02:11:24.747384Z",
     "start_time": "2021-06-12T02:11:24.744942Z"
    }
   },
   "outputs": [],
   "source": [
    "text = \"Welcome to RegExr v2.1 by #{gskinner.com},  #{ssd.sd} hosted by Media Temple!\""
   ]
  },
  {
   "cell_type": "code",
   "execution_count": 49,
   "metadata": {
    "ExecuteTime": {
     "end_time": "2021-06-12T02:11:24.912530Z",
     "start_time": "2021-06-12T02:11:24.909028Z"
    }
   },
   "outputs": [
    {
     "data": {
      "text/plain": [
       "'Welcome to RegExr v2.1 by #AAA,  #AAA hosted by Media Temple!'"
      ]
     },
     "execution_count": 49,
     "metadata": {},
     "output_type": "execute_result"
    }
   ],
   "source": [
    "re.sub(\"({[^{]*?)\\w(?=\\})}\", \"AAA\", text)"
   ]
  },
  {
   "cell_type": "code",
   "execution_count": 84,
   "metadata": {
    "ExecuteTime": {
     "end_time": "2021-06-12T02:41:27.895715Z",
     "start_time": "2021-06-12T02:41:27.886985Z"
    }
   },
   "outputs": [],
   "source": [
    "result = re.finditer(\"({[^{]*?)\\w(?=\\})}\", text)"
   ]
  },
  {
   "cell_type": "code",
   "execution_count": 55,
   "metadata": {
    "ExecuteTime": {
     "end_time": "2021-06-12T02:11:53.740276Z",
     "start_time": "2021-06-12T02:11:53.737088Z"
    }
   },
   "outputs": [],
   "source": [
    "for i in result:\n",
    "    pass"
   ]
  },
  {
   "cell_type": "code",
   "execution_count": 80,
   "metadata": {
    "ExecuteTime": {
     "end_time": "2021-06-12T02:15:21.408187Z",
     "start_time": "2021-06-12T02:15:21.404961Z"
    }
   },
   "outputs": [
    {
     "data": {
      "text/plain": [
       "'{ssd.sd}'"
      ]
     },
     "execution_count": 80,
     "metadata": {},
     "output_type": "execute_result"
    }
   ],
   "source": []
  },
  {
   "cell_type": "code",
   "execution_count": 65,
   "metadata": {
    "ExecuteTime": {
     "end_time": "2021-06-12T02:12:51.331402Z",
     "start_time": "2021-06-12T02:12:51.327865Z"
    }
   },
   "outputs": [
    {
     "data": {
      "text/plain": [
       "['{gskinner.co', '{ssd.s']"
      ]
     },
     "execution_count": 65,
     "metadata": {},
     "output_type": "execute_result"
    }
   ],
   "source": [
    "re.findall(\"({[^{]*?)\\w(?=\\})}\", text)"
   ]
  },
  {
   "cell_type": "code",
   "execution_count": 85,
   "metadata": {
    "ExecuteTime": {
     "end_time": "2021-06-12T02:41:32.394145Z",
     "start_time": "2021-06-12T02:41:32.391558Z"
    }
   },
   "outputs": [],
   "source": [
    "result = re.finditer(\"({[^{]*?)\\w(?=\\})}\", text)\n",
    "\n",
    "list(map(lambda x:x.captures()[0], result))"
   ]
  },
  {
   "cell_type": "code",
   "execution_count": null,
   "metadata": {},
   "outputs": [],
   "source": []
  },
  {
   "cell_type": "code",
   "execution_count": 3,
   "metadata": {
    "ExecuteTime": {
     "end_time": "2021-06-12T02:02:02.683217Z",
     "start_time": "2021-06-12T02:02:02.665513Z"
    }
   },
   "outputs": [],
   "source": [
    "import regex as re"
   ]
  },
  {
   "cell_type": "code",
   "execution_count": 9,
   "metadata": {
    "ExecuteTime": {
     "end_time": "2021-06-12T02:04:30.269882Z",
     "start_time": "2021-06-12T02:04:30.267317Z"
    }
   },
   "outputs": [],
   "source": [
    "re.search(\"/{/{([^}]*)}/}/\", text)"
   ]
  },
  {
   "cell_type": "code",
   "execution_count": null,
   "metadata": {},
   "outputs": [],
   "source": []
  }
 ],
 "metadata": {
  "kernelspec": {
   "display_name": "Python 3",
   "language": "python",
   "name": "python3"
  },
  "language_info": {
   "codemirror_mode": {
    "name": "ipython",
    "version": 3
   },
   "file_extension": ".py",
   "mimetype": "text/x-python",
   "name": "python",
   "nbconvert_exporter": "python",
   "pygments_lexer": "ipython3",
   "version": "3.7.4"
  },
  "varInspector": {
   "cols": {
    "lenName": 16,
    "lenType": 16,
    "lenVar": 40
   },
   "kernels_config": {
    "python": {
     "delete_cmd_postfix": "",
     "delete_cmd_prefix": "del ",
     "library": "var_list.py",
     "varRefreshCmd": "print(var_dic_list())"
    },
    "r": {
     "delete_cmd_postfix": ") ",
     "delete_cmd_prefix": "rm(",
     "library": "var_list.r",
     "varRefreshCmd": "cat(var_dic_list()) "
    }
   },
   "types_to_exclude": [
    "module",
    "function",
    "builtin_function_or_method",
    "instance",
    "_Feature"
   ],
   "window_display": false
  }
 },
 "nbformat": 4,
 "nbformat_minor": 2
}
