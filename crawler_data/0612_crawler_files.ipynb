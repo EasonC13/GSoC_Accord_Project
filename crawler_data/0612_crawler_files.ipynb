{
 "cells": [
  {
   "cell_type": "markdown",
   "metadata": {},
   "source": [
    "This Code show how to crawler all contract from [Template Library](https://templates.accordproject.org/).<br>\n",
    "Because all info from template library can be found at [accordproject/cicero-template-library](https://github.com/accordproject/cicero-template-library/tree/3fc0dff2258f69f1d35e405689ce48770b9907c3), I use a file walkthrough to get all wanted data."
   ]
  },
  {
   "cell_type": "code",
   "execution_count": 158,
   "metadata": {
    "ExecuteTime": {
     "end_time": "2021-06-12T05:40:52.460320Z",
     "start_time": "2021-06-12T05:40:52.457882Z"
    }
   },
   "outputs": [],
   "source": [
    "import os\n",
    "import json\n",
    "import re\n",
    "import pandas as pd"
   ]
  },
  {
   "cell_type": "code",
   "execution_count": 159,
   "metadata": {
    "ExecuteTime": {
     "end_time": "2021-06-12T05:40:52.619301Z",
     "start_time": "2021-06-12T05:40:52.616231Z"
    }
   },
   "outputs": [],
   "source": [
    "contracts_path = \"./cicero-template-library/src\"\n",
    "contracts = os.listdir(contracts_path)"
   ]
  },
  {
   "cell_type": "code",
   "execution_count": 160,
   "metadata": {
    "ExecuteTime": {
     "end_time": "2021-06-12T05:40:52.774568Z",
     "start_time": "2021-06-12T05:40:52.772079Z"
    }
   },
   "outputs": [],
   "source": [
    "target_templates = [\"contract\", \"clause\"]"
   ]
  },
  {
   "cell_type": "code",
   "execution_count": 161,
   "metadata": {
    "ExecuteTime": {
     "end_time": "2021-06-12T05:40:52.934553Z",
     "start_time": "2021-06-12T05:40:52.929185Z"
    }
   },
   "outputs": [],
   "source": [
    "def read_through_files(path, main_path = \"\", data = {}):\n",
    "    for file in os.listdir(path):\n",
    "        subpath = f\"{path}/{file}\"\n",
    "        if os.path.isdir(subpath):\n",
    "            read_through_files(subpath, main_path, data)\n",
    "        else:\n",
    "            key = subpath.replace(main_path, \"\")\n",
    "            with open(subpath) as f:\n",
    "                #print(subpath)\n",
    "                if \"json\" in file:\n",
    "                    data[key] = json.load(f)\n",
    "                elif re.search(\".md|.js|.cto|.ergo\", file): #todo: next: regrex match .md .js .cto....\n",
    "                    data[key] = f.readlines()\n",
    "    return data"
   ]
  },
  {
   "cell_type": "code",
   "execution_count": 162,
   "metadata": {
    "ExecuteTime": {
     "end_time": "2021-06-12T05:40:53.209530Z",
     "start_time": "2021-06-12T05:40:53.080524Z"
    }
   },
   "outputs": [],
   "source": [
    "wanted_datas = {}\n",
    "for contract in contracts:\n",
    "    path = f\"{contracts_path}/{contract}\"\n",
    "    \n",
    "    with open(f\"{path}/package.json\") as f:\n",
    "        package = json.load(f)\n",
    "    \n",
    "    if package[\"accordproject\"][\"template\"] in target_templates:\n",
    "        wanted_datas[contract] = read_through_files(path, path, {})"
   ]
  },
  {
   "cell_type": "code",
   "execution_count": 163,
   "metadata": {
    "ExecuteTime": {
     "end_time": "2021-06-12T05:40:53.798469Z",
     "start_time": "2021-06-12T05:40:53.793977Z"
    }
   },
   "outputs": [
    {
     "data": {
      "text/plain": [
       "dict_keys(['/request.json', '/.cucumber.js', '/logic/logic.ergo', '/README.md', '/package.json', '/model/model.cto', '/text/sample.md', '/text/grammar.tem.md', '/request-sign.json'])"
      ]
     },
     "execution_count": 163,
     "metadata": {},
     "output_type": "execute_result"
    }
   ],
   "source": [
    "wanted_datas[\"payment-upon-signature\"].keys()"
   ]
  },
  {
   "cell_type": "code",
   "execution_count": 164,
   "metadata": {
    "ExecuteTime": {
     "end_time": "2021-06-12T05:40:56.608435Z",
     "start_time": "2021-06-12T05:40:56.592074Z"
    }
   },
   "outputs": [],
   "source": [
    "with open(\"./all_contract.json\", 'w') as f:\n",
    "    json.dump(wanted_datas, f)"
   ]
  },
  {
   "cell_type": "code",
   "execution_count": null,
   "metadata": {},
   "outputs": [],
   "source": []
  },
  {
   "cell_type": "code",
   "execution_count": null,
   "metadata": {},
   "outputs": [],
   "source": []
  },
  {
   "cell_type": "code",
   "execution_count": null,
   "metadata": {},
   "outputs": [],
   "source": []
  }
 ],
 "metadata": {
  "kernelspec": {
   "display_name": "Python 3",
   "language": "python",
   "name": "python3"
  },
  "language_info": {
   "codemirror_mode": {
    "name": "ipython",
    "version": 3
   },
   "file_extension": ".py",
   "mimetype": "text/x-python",
   "name": "python",
   "nbconvert_exporter": "python",
   "pygments_lexer": "ipython3",
   "version": "3.7.4"
  },
  "varInspector": {
   "cols": {
    "lenName": 16,
    "lenType": 16,
    "lenVar": 40
   },
   "kernels_config": {
    "python": {
     "delete_cmd_postfix": "",
     "delete_cmd_prefix": "del ",
     "library": "var_list.py",
     "varRefreshCmd": "print(var_dic_list())"
    },
    "r": {
     "delete_cmd_postfix": ") ",
     "delete_cmd_prefix": "rm(",
     "library": "var_list.r",
     "varRefreshCmd": "cat(var_dic_list()) "
    }
   },
   "types_to_exclude": [
    "module",
    "function",
    "builtin_function_or_method",
    "instance",
    "_Feature"
   ],
   "window_display": false
  }
 },
 "nbformat": 4,
 "nbformat_minor": 2
}
